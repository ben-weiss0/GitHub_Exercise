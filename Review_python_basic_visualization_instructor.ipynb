{
 "cells": [
  {
   "cell_type": "markdown",
   "id": "5838d063",
   "metadata": {},
   "source": [
    "## Review on basic Python data visualziation and data summary \n",
    "\n",
    "### Goal for today： \n",
    "\n",
    "- Review on basic data structure\n",
    "- Understand basic rules to choose figure type\n",
    "- Learn how to describe data and simple figures \n",
    "- Review basic plotting options in Python (matplotlib and seaborn)\n"
   ]
  },
  {
   "cell_type": "markdown",
   "id": "9fe22beb",
   "metadata": {},
   "source": [
    "### Describing a data set\n",
    "\n",
    "In a data table (also called ``data matrix\"), like the one below. There are two dimensions in the data: \n",
    "\n",
    "- Observations: each individual subject, case, or sample point (rows, represented with $n$)\n",
    "- Variables/Feature: characteristics that are recorded for each subject in the sample (columns, represented with $p$)\n"
   ]
  },
  {
   "cell_type": "code",
   "execution_count": 1,
   "id": "1c074044",
   "metadata": {},
   "outputs": [
    {
     "ename": "FileNotFoundError",
     "evalue": "[Errno 2] No such file or directory: 'ICUAdmissions.csv'",
     "output_type": "error",
     "traceback": [
      "\u001b[0;31m---------------------------------------------------------------------------\u001b[0m",
      "\u001b[0;31mFileNotFoundError\u001b[0m                         Traceback (most recent call last)",
      "\u001b[0;32m/var/folders/p1/lqmyh7x55zz1mqtzvzk71nz80000gn/T/ipykernel_6719/1297635558.py\u001b[0m in \u001b[0;36m<module>\u001b[0;34m\u001b[0m\n\u001b[1;32m      1\u001b[0m \u001b[0;32mimport\u001b[0m \u001b[0mpandas\u001b[0m \u001b[0;32mas\u001b[0m \u001b[0mpd\u001b[0m\u001b[0;34m\u001b[0m\u001b[0;34m\u001b[0m\u001b[0m\n\u001b[1;32m      2\u001b[0m \u001b[0;34m\u001b[0m\u001b[0m\n\u001b[0;32m----> 3\u001b[0;31m \u001b[0mdf\u001b[0m \u001b[0;34m=\u001b[0m \u001b[0mpd\u001b[0m\u001b[0;34m.\u001b[0m\u001b[0mread_csv\u001b[0m\u001b[0;34m(\u001b[0m\u001b[0;34m\"ICUAdmissions.csv\"\u001b[0m\u001b[0;34m)\u001b[0m\u001b[0;34m\u001b[0m\u001b[0;34m\u001b[0m\u001b[0m\n\u001b[0m\u001b[1;32m      4\u001b[0m \u001b[0mprint\u001b[0m\u001b[0;34m(\u001b[0m\u001b[0mdf\u001b[0m\u001b[0;34m.\u001b[0m\u001b[0mhead\u001b[0m\u001b[0;34m(\u001b[0m\u001b[0;34m)\u001b[0m\u001b[0;34m)\u001b[0m\u001b[0;34m\u001b[0m\u001b[0;34m\u001b[0m\u001b[0m\n",
      "\u001b[0;32m~/opt/anaconda3/lib/python3.9/site-packages/pandas/util/_decorators.py\u001b[0m in \u001b[0;36mwrapper\u001b[0;34m(*args, **kwargs)\u001b[0m\n\u001b[1;32m    309\u001b[0m                     \u001b[0mstacklevel\u001b[0m\u001b[0;34m=\u001b[0m\u001b[0mstacklevel\u001b[0m\u001b[0;34m,\u001b[0m\u001b[0;34m\u001b[0m\u001b[0;34m\u001b[0m\u001b[0m\n\u001b[1;32m    310\u001b[0m                 )\n\u001b[0;32m--> 311\u001b[0;31m             \u001b[0;32mreturn\u001b[0m \u001b[0mfunc\u001b[0m\u001b[0;34m(\u001b[0m\u001b[0;34m*\u001b[0m\u001b[0margs\u001b[0m\u001b[0;34m,\u001b[0m \u001b[0;34m**\u001b[0m\u001b[0mkwargs\u001b[0m\u001b[0;34m)\u001b[0m\u001b[0;34m\u001b[0m\u001b[0;34m\u001b[0m\u001b[0m\n\u001b[0m\u001b[1;32m    312\u001b[0m \u001b[0;34m\u001b[0m\u001b[0m\n\u001b[1;32m    313\u001b[0m         \u001b[0;32mreturn\u001b[0m \u001b[0mwrapper\u001b[0m\u001b[0;34m\u001b[0m\u001b[0;34m\u001b[0m\u001b[0m\n",
      "\u001b[0;32m~/opt/anaconda3/lib/python3.9/site-packages/pandas/io/parsers/readers.py\u001b[0m in \u001b[0;36mread_csv\u001b[0;34m(filepath_or_buffer, sep, delimiter, header, names, index_col, usecols, squeeze, prefix, mangle_dupe_cols, dtype, engine, converters, true_values, false_values, skipinitialspace, skiprows, skipfooter, nrows, na_values, keep_default_na, na_filter, verbose, skip_blank_lines, parse_dates, infer_datetime_format, keep_date_col, date_parser, dayfirst, cache_dates, iterator, chunksize, compression, thousands, decimal, lineterminator, quotechar, quoting, doublequote, escapechar, comment, encoding, encoding_errors, dialect, error_bad_lines, warn_bad_lines, on_bad_lines, delim_whitespace, low_memory, memory_map, float_precision, storage_options)\u001b[0m\n\u001b[1;32m    584\u001b[0m     \u001b[0mkwds\u001b[0m\u001b[0;34m.\u001b[0m\u001b[0mupdate\u001b[0m\u001b[0;34m(\u001b[0m\u001b[0mkwds_defaults\u001b[0m\u001b[0;34m)\u001b[0m\u001b[0;34m\u001b[0m\u001b[0;34m\u001b[0m\u001b[0m\n\u001b[1;32m    585\u001b[0m \u001b[0;34m\u001b[0m\u001b[0m\n\u001b[0;32m--> 586\u001b[0;31m     \u001b[0;32mreturn\u001b[0m \u001b[0m_read\u001b[0m\u001b[0;34m(\u001b[0m\u001b[0mfilepath_or_buffer\u001b[0m\u001b[0;34m,\u001b[0m \u001b[0mkwds\u001b[0m\u001b[0;34m)\u001b[0m\u001b[0;34m\u001b[0m\u001b[0;34m\u001b[0m\u001b[0m\n\u001b[0m\u001b[1;32m    587\u001b[0m \u001b[0;34m\u001b[0m\u001b[0m\n\u001b[1;32m    588\u001b[0m \u001b[0;34m\u001b[0m\u001b[0m\n",
      "\u001b[0;32m~/opt/anaconda3/lib/python3.9/site-packages/pandas/io/parsers/readers.py\u001b[0m in \u001b[0;36m_read\u001b[0;34m(filepath_or_buffer, kwds)\u001b[0m\n\u001b[1;32m    480\u001b[0m \u001b[0;34m\u001b[0m\u001b[0m\n\u001b[1;32m    481\u001b[0m     \u001b[0;31m# Create the parser.\u001b[0m\u001b[0;34m\u001b[0m\u001b[0;34m\u001b[0m\u001b[0m\n\u001b[0;32m--> 482\u001b[0;31m     \u001b[0mparser\u001b[0m \u001b[0;34m=\u001b[0m \u001b[0mTextFileReader\u001b[0m\u001b[0;34m(\u001b[0m\u001b[0mfilepath_or_buffer\u001b[0m\u001b[0;34m,\u001b[0m \u001b[0;34m**\u001b[0m\u001b[0mkwds\u001b[0m\u001b[0;34m)\u001b[0m\u001b[0;34m\u001b[0m\u001b[0;34m\u001b[0m\u001b[0m\n\u001b[0m\u001b[1;32m    483\u001b[0m \u001b[0;34m\u001b[0m\u001b[0m\n\u001b[1;32m    484\u001b[0m     \u001b[0;32mif\u001b[0m \u001b[0mchunksize\u001b[0m \u001b[0;32mor\u001b[0m \u001b[0miterator\u001b[0m\u001b[0;34m:\u001b[0m\u001b[0;34m\u001b[0m\u001b[0;34m\u001b[0m\u001b[0m\n",
      "\u001b[0;32m~/opt/anaconda3/lib/python3.9/site-packages/pandas/io/parsers/readers.py\u001b[0m in \u001b[0;36m__init__\u001b[0;34m(self, f, engine, **kwds)\u001b[0m\n\u001b[1;32m    809\u001b[0m             \u001b[0mself\u001b[0m\u001b[0;34m.\u001b[0m\u001b[0moptions\u001b[0m\u001b[0;34m[\u001b[0m\u001b[0;34m\"has_index_names\"\u001b[0m\u001b[0;34m]\u001b[0m \u001b[0;34m=\u001b[0m \u001b[0mkwds\u001b[0m\u001b[0;34m[\u001b[0m\u001b[0;34m\"has_index_names\"\u001b[0m\u001b[0;34m]\u001b[0m\u001b[0;34m\u001b[0m\u001b[0;34m\u001b[0m\u001b[0m\n\u001b[1;32m    810\u001b[0m \u001b[0;34m\u001b[0m\u001b[0m\n\u001b[0;32m--> 811\u001b[0;31m         \u001b[0mself\u001b[0m\u001b[0;34m.\u001b[0m\u001b[0m_engine\u001b[0m \u001b[0;34m=\u001b[0m \u001b[0mself\u001b[0m\u001b[0;34m.\u001b[0m\u001b[0m_make_engine\u001b[0m\u001b[0;34m(\u001b[0m\u001b[0mself\u001b[0m\u001b[0;34m.\u001b[0m\u001b[0mengine\u001b[0m\u001b[0;34m)\u001b[0m\u001b[0;34m\u001b[0m\u001b[0;34m\u001b[0m\u001b[0m\n\u001b[0m\u001b[1;32m    812\u001b[0m \u001b[0;34m\u001b[0m\u001b[0m\n\u001b[1;32m    813\u001b[0m     \u001b[0;32mdef\u001b[0m \u001b[0mclose\u001b[0m\u001b[0;34m(\u001b[0m\u001b[0mself\u001b[0m\u001b[0;34m)\u001b[0m\u001b[0;34m:\u001b[0m\u001b[0;34m\u001b[0m\u001b[0;34m\u001b[0m\u001b[0m\n",
      "\u001b[0;32m~/opt/anaconda3/lib/python3.9/site-packages/pandas/io/parsers/readers.py\u001b[0m in \u001b[0;36m_make_engine\u001b[0;34m(self, engine)\u001b[0m\n\u001b[1;32m   1038\u001b[0m             )\n\u001b[1;32m   1039\u001b[0m         \u001b[0;31m# error: Too many arguments for \"ParserBase\"\u001b[0m\u001b[0;34m\u001b[0m\u001b[0;34m\u001b[0m\u001b[0m\n\u001b[0;32m-> 1040\u001b[0;31m         \u001b[0;32mreturn\u001b[0m \u001b[0mmapping\u001b[0m\u001b[0;34m[\u001b[0m\u001b[0mengine\u001b[0m\u001b[0;34m]\u001b[0m\u001b[0;34m(\u001b[0m\u001b[0mself\u001b[0m\u001b[0;34m.\u001b[0m\u001b[0mf\u001b[0m\u001b[0;34m,\u001b[0m \u001b[0;34m**\u001b[0m\u001b[0mself\u001b[0m\u001b[0;34m.\u001b[0m\u001b[0moptions\u001b[0m\u001b[0;34m)\u001b[0m  \u001b[0;31m# type: ignore[call-arg]\u001b[0m\u001b[0;34m\u001b[0m\u001b[0;34m\u001b[0m\u001b[0m\n\u001b[0m\u001b[1;32m   1041\u001b[0m \u001b[0;34m\u001b[0m\u001b[0m\n\u001b[1;32m   1042\u001b[0m     \u001b[0;32mdef\u001b[0m \u001b[0m_failover_to_python\u001b[0m\u001b[0;34m(\u001b[0m\u001b[0mself\u001b[0m\u001b[0;34m)\u001b[0m\u001b[0;34m:\u001b[0m\u001b[0;34m\u001b[0m\u001b[0;34m\u001b[0m\u001b[0m\n",
      "\u001b[0;32m~/opt/anaconda3/lib/python3.9/site-packages/pandas/io/parsers/c_parser_wrapper.py\u001b[0m in \u001b[0;36m__init__\u001b[0;34m(self, src, **kwds)\u001b[0m\n\u001b[1;32m     49\u001b[0m \u001b[0;34m\u001b[0m\u001b[0m\n\u001b[1;32m     50\u001b[0m         \u001b[0;31m# open handles\u001b[0m\u001b[0;34m\u001b[0m\u001b[0;34m\u001b[0m\u001b[0m\n\u001b[0;32m---> 51\u001b[0;31m         \u001b[0mself\u001b[0m\u001b[0;34m.\u001b[0m\u001b[0m_open_handles\u001b[0m\u001b[0;34m(\u001b[0m\u001b[0msrc\u001b[0m\u001b[0;34m,\u001b[0m \u001b[0mkwds\u001b[0m\u001b[0;34m)\u001b[0m\u001b[0;34m\u001b[0m\u001b[0;34m\u001b[0m\u001b[0m\n\u001b[0m\u001b[1;32m     52\u001b[0m         \u001b[0;32massert\u001b[0m \u001b[0mself\u001b[0m\u001b[0;34m.\u001b[0m\u001b[0mhandles\u001b[0m \u001b[0;32mis\u001b[0m \u001b[0;32mnot\u001b[0m \u001b[0;32mNone\u001b[0m\u001b[0;34m\u001b[0m\u001b[0;34m\u001b[0m\u001b[0m\n\u001b[1;32m     53\u001b[0m \u001b[0;34m\u001b[0m\u001b[0m\n",
      "\u001b[0;32m~/opt/anaconda3/lib/python3.9/site-packages/pandas/io/parsers/base_parser.py\u001b[0m in \u001b[0;36m_open_handles\u001b[0;34m(self, src, kwds)\u001b[0m\n\u001b[1;32m    220\u001b[0m         \u001b[0mLet\u001b[0m \u001b[0mthe\u001b[0m \u001b[0mreaders\u001b[0m \u001b[0mopen\u001b[0m \u001b[0mIOHandles\u001b[0m \u001b[0mafter\u001b[0m \u001b[0mthey\u001b[0m \u001b[0mare\u001b[0m \u001b[0mdone\u001b[0m \u001b[0;32mwith\u001b[0m \u001b[0mtheir\u001b[0m \u001b[0mpotential\u001b[0m \u001b[0mraises\u001b[0m\u001b[0;34m.\u001b[0m\u001b[0;34m\u001b[0m\u001b[0;34m\u001b[0m\u001b[0m\n\u001b[1;32m    221\u001b[0m         \"\"\"\n\u001b[0;32m--> 222\u001b[0;31m         self.handles = get_handle(\n\u001b[0m\u001b[1;32m    223\u001b[0m             \u001b[0msrc\u001b[0m\u001b[0;34m,\u001b[0m\u001b[0;34m\u001b[0m\u001b[0;34m\u001b[0m\u001b[0m\n\u001b[1;32m    224\u001b[0m             \u001b[0;34m\"r\"\u001b[0m\u001b[0;34m,\u001b[0m\u001b[0;34m\u001b[0m\u001b[0;34m\u001b[0m\u001b[0m\n",
      "\u001b[0;32m~/opt/anaconda3/lib/python3.9/site-packages/pandas/io/common.py\u001b[0m in \u001b[0;36mget_handle\u001b[0;34m(path_or_buf, mode, encoding, compression, memory_map, is_text, errors, storage_options)\u001b[0m\n\u001b[1;32m    700\u001b[0m         \u001b[0;32mif\u001b[0m \u001b[0mioargs\u001b[0m\u001b[0;34m.\u001b[0m\u001b[0mencoding\u001b[0m \u001b[0;32mand\u001b[0m \u001b[0;34m\"b\"\u001b[0m \u001b[0;32mnot\u001b[0m \u001b[0;32min\u001b[0m \u001b[0mioargs\u001b[0m\u001b[0;34m.\u001b[0m\u001b[0mmode\u001b[0m\u001b[0;34m:\u001b[0m\u001b[0;34m\u001b[0m\u001b[0;34m\u001b[0m\u001b[0m\n\u001b[1;32m    701\u001b[0m             \u001b[0;31m# Encoding\u001b[0m\u001b[0;34m\u001b[0m\u001b[0;34m\u001b[0m\u001b[0m\n\u001b[0;32m--> 702\u001b[0;31m             handle = open(\n\u001b[0m\u001b[1;32m    703\u001b[0m                 \u001b[0mhandle\u001b[0m\u001b[0;34m,\u001b[0m\u001b[0;34m\u001b[0m\u001b[0;34m\u001b[0m\u001b[0m\n\u001b[1;32m    704\u001b[0m                 \u001b[0mioargs\u001b[0m\u001b[0;34m.\u001b[0m\u001b[0mmode\u001b[0m\u001b[0;34m,\u001b[0m\u001b[0;34m\u001b[0m\u001b[0;34m\u001b[0m\u001b[0m\n",
      "\u001b[0;31mFileNotFoundError\u001b[0m: [Errno 2] No such file or directory: 'ICUAdmissions.csv'"
     ]
    }
   ],
   "source": [
    "import pandas as pd\n",
    "\n",
    "df = pd.read_csv(\"ICUAdmissions.csv\")\n",
    "print(df.head())"
   ]
  },
  {
   "cell_type": "markdown",
   "id": "7f6746d1",
   "metadata": {},
   "source": [
    "### Describing variables\n",
    "\n",
    "There are at least two ways to describe variables:\n",
    "\t\t\n",
    "By value type:\n",
    "\t\t\n",
    "- Numerical variables: take on numerical values with meaning Mathematical operations like addition, etc. must make sense\n",
    "- Categorical variables: take on names, categories, or labels Categories are sometimes represented by numbers...\n",
    "\n",
    "By function:\n",
    "\t\t\n",
    "- Response variable/Target: defined by the particular research question a study seeks to address, and measures the outcome of interest in the study\n",
    "- Explanatory variable/Feature: a secondary variable(s) that explains changes in the response variable"
   ]
  },
  {
   "cell_type": "markdown",
   "id": "73fa46a4-3c4c-4cb9-a7ad-4a4d569cdb12",
   "metadata": {},
   "source": [
    "### Important terminology clarification\n",
    "\n",
    "- feature\n",
    "- variable\n",
    "- attribute"
   ]
  },
  {
   "cell_type": "markdown",
   "id": "d921ea03",
   "metadata": {},
   "source": [
    "### In-class activities\n",
    "\n",
    "Suppose my research question is \"What factors may be related to the heart rate in ICU admissions?\" Try to make three data viasualizations. \n",
    "\n",
    "Things you need to decide: \n",
    "- What features I want to choose for the data visualizaiton?\n",
    "- What type of figures I will choose? \n",
    "- What information I want to achieve from the data visualization?\n",
    "- ......\n"
   ]
  },
  {
   "cell_type": "code",
   "execution_count": null,
   "id": "7b9d8948",
   "metadata": {},
   "outputs": [],
   "source": [
    "# Example 1: The distribution of heart rate"
   ]
  },
  {
   "cell_type": "code",
   "execution_count": null,
   "id": "7c16512d",
   "metadata": {},
   "outputs": [],
   "source": [
    "# Example 2: some plots heart rate vs. something\n",
    "            #1. choose somehthing I believe there will be an effect\n",
    "            #2. choose something give me a trend in the figure"
   ]
  },
  {
   "cell_type": "code",
   "execution_count": null,
   "id": "adce3ff1",
   "metadata": {},
   "outputs": [],
   "source": [
    "# Example 3: "
   ]
  },
  {
   "cell_type": "markdown",
   "id": "4ebd2758",
   "metadata": {},
   "source": [
    "### Basic data visualization choices\n",
    "\n",
    "Here is a general guidline for the type of plots: \n",
    "\n",
    "- One categorical: bar plot \n",
    "- One continous: histogram/density plot/boxplot\n",
    "- Two continous: scatter plot\n",
    "- One categorical and one continous: side-by-side boxplot\n",
    "- Two categorical: side-by-side bar plot (sankey diagram and treemap)"
   ]
  },
  {
   "cell_type": "markdown",
   "id": "a9de79fe",
   "metadata": {},
   "source": [
    "#### One categorical: bar plot"
   ]
  },
  {
   "cell_type": "code",
   "execution_count": 3,
   "id": "20682663",
   "metadata": {},
   "outputs": [
    {
     "name": "stderr",
     "output_type": "stream",
     "text": [
      "/Users/benweiss/opt/anaconda3/lib/python3.9/site-packages/scipy/__init__.py:146: UserWarning: A NumPy version >=1.16.5 and <1.23.0 is required for this version of SciPy (detected version 1.23.4\n",
      "  warnings.warn(f\"A NumPy version >={np_minversion} and <{np_maxversion}\"\n"
     ]
    },
    {
     "ename": "AttributeError",
     "evalue": "module 'matplotlib.cm' has no attribute 'register_cmap'",
     "output_type": "error",
     "traceback": [
      "\u001b[0;31m---------------------------------------------------------------------------\u001b[0m",
      "\u001b[0;31mAttributeError\u001b[0m                            Traceback (most recent call last)",
      "\u001b[0;32m/var/folders/p1/lqmyh7x55zz1mqtzvzk71nz80000gn/T/ipykernel_6719/2178952974.py\u001b[0m in \u001b[0;36m<module>\u001b[0;34m\u001b[0m\n\u001b[1;32m      1\u001b[0m \u001b[0;32mimport\u001b[0m \u001b[0mmatplotlib\u001b[0m\u001b[0;34m.\u001b[0m\u001b[0mpyplot\u001b[0m \u001b[0;32mas\u001b[0m \u001b[0mplt\u001b[0m\u001b[0;34m\u001b[0m\u001b[0;34m\u001b[0m\u001b[0m\n\u001b[0;32m----> 2\u001b[0;31m \u001b[0;32mimport\u001b[0m \u001b[0mseaborn\u001b[0m \u001b[0;32mas\u001b[0m \u001b[0msns\u001b[0m\u001b[0;34m\u001b[0m\u001b[0;34m\u001b[0m\u001b[0m\n\u001b[0m\u001b[1;32m      3\u001b[0m \u001b[0;34m\u001b[0m\u001b[0m\n\u001b[1;32m      4\u001b[0m \u001b[0msns\u001b[0m\u001b[0;34m.\u001b[0m\u001b[0mcountplot\u001b[0m\u001b[0;34m(\u001b[0m\u001b[0mx\u001b[0m \u001b[0;34m=\u001b[0m \u001b[0;34m\"Status\"\u001b[0m\u001b[0;34m,\u001b[0m \u001b[0mdata\u001b[0m \u001b[0;34m=\u001b[0m \u001b[0mdf\u001b[0m\u001b[0;34m)\u001b[0m\u001b[0;34m\u001b[0m\u001b[0;34m\u001b[0m\u001b[0m\n\u001b[1;32m      5\u001b[0m \u001b[0mplt\u001b[0m\u001b[0;34m.\u001b[0m\u001b[0mxlabel\u001b[0m\u001b[0;34m(\u001b[0m\u001b[0;34m'Status'\u001b[0m\u001b[0;34m)\u001b[0m\u001b[0;34m\u001b[0m\u001b[0;34m\u001b[0m\u001b[0m\n",
      "\u001b[0;32m~/opt/anaconda3/lib/python3.9/site-packages/seaborn/__init__.py\u001b[0m in \u001b[0;36m<module>\u001b[0;34m\u001b[0m\n\u001b[1;32m      7\u001b[0m \u001b[0;32mfrom\u001b[0m \u001b[0;34m.\u001b[0m\u001b[0mcategorical\u001b[0m \u001b[0;32mimport\u001b[0m \u001b[0;34m*\u001b[0m  \u001b[0;31m# noqa: F401,F403\u001b[0m\u001b[0;34m\u001b[0m\u001b[0;34m\u001b[0m\u001b[0m\n\u001b[1;32m      8\u001b[0m \u001b[0;32mfrom\u001b[0m \u001b[0;34m.\u001b[0m\u001b[0mdistributions\u001b[0m \u001b[0;32mimport\u001b[0m \u001b[0;34m*\u001b[0m  \u001b[0;31m# noqa: F401,F403\u001b[0m\u001b[0;34m\u001b[0m\u001b[0;34m\u001b[0m\u001b[0m\n\u001b[0;32m----> 9\u001b[0;31m \u001b[0;32mfrom\u001b[0m \u001b[0;34m.\u001b[0m\u001b[0mmatrix\u001b[0m \u001b[0;32mimport\u001b[0m \u001b[0;34m*\u001b[0m  \u001b[0;31m# noqa: F401,F403\u001b[0m\u001b[0;34m\u001b[0m\u001b[0;34m\u001b[0m\u001b[0m\n\u001b[0m\u001b[1;32m     10\u001b[0m \u001b[0;32mfrom\u001b[0m \u001b[0;34m.\u001b[0m\u001b[0mmiscplot\u001b[0m \u001b[0;32mimport\u001b[0m \u001b[0;34m*\u001b[0m  \u001b[0;31m# noqa: F401,F403\u001b[0m\u001b[0;34m\u001b[0m\u001b[0;34m\u001b[0m\u001b[0m\n\u001b[1;32m     11\u001b[0m \u001b[0;32mfrom\u001b[0m \u001b[0;34m.\u001b[0m\u001b[0maxisgrid\u001b[0m \u001b[0;32mimport\u001b[0m \u001b[0;34m*\u001b[0m  \u001b[0;31m# noqa: F401,F403\u001b[0m\u001b[0;34m\u001b[0m\u001b[0;34m\u001b[0m\u001b[0m\n",
      "\u001b[0;32m~/opt/anaconda3/lib/python3.9/site-packages/seaborn/matrix.py\u001b[0m in \u001b[0;36m<module>\u001b[0;34m\u001b[0m\n\u001b[1;32m     10\u001b[0m \u001b[0;32mfrom\u001b[0m \u001b[0mscipy\u001b[0m\u001b[0;34m.\u001b[0m\u001b[0mcluster\u001b[0m \u001b[0;32mimport\u001b[0m \u001b[0mhierarchy\u001b[0m\u001b[0;34m\u001b[0m\u001b[0;34m\u001b[0m\u001b[0m\n\u001b[1;32m     11\u001b[0m \u001b[0;34m\u001b[0m\u001b[0m\n\u001b[0;32m---> 12\u001b[0;31m \u001b[0;32mfrom\u001b[0m \u001b[0;34m.\u001b[0m \u001b[0;32mimport\u001b[0m \u001b[0mcm\u001b[0m\u001b[0;34m\u001b[0m\u001b[0;34m\u001b[0m\u001b[0m\n\u001b[0m\u001b[1;32m     13\u001b[0m \u001b[0;32mfrom\u001b[0m \u001b[0;34m.\u001b[0m\u001b[0maxisgrid\u001b[0m \u001b[0;32mimport\u001b[0m \u001b[0mGrid\u001b[0m\u001b[0;34m\u001b[0m\u001b[0;34m\u001b[0m\u001b[0m\n\u001b[1;32m     14\u001b[0m from .utils import (\n",
      "\u001b[0;32m~/opt/anaconda3/lib/python3.9/site-packages/seaborn/cm.py\u001b[0m in \u001b[0;36m<module>\u001b[0;34m\u001b[0m\n\u001b[1;32m   1580\u001b[0m     \u001b[0mlocals\u001b[0m\u001b[0;34m(\u001b[0m\u001b[0;34m)\u001b[0m\u001b[0;34m[\u001b[0m\u001b[0m_name\u001b[0m \u001b[0;34m+\u001b[0m \u001b[0;34m\"_r\"\u001b[0m\u001b[0;34m]\u001b[0m \u001b[0;34m=\u001b[0m \u001b[0m_cmap_r\u001b[0m\u001b[0;34m\u001b[0m\u001b[0;34m\u001b[0m\u001b[0m\n\u001b[1;32m   1581\u001b[0m \u001b[0;34m\u001b[0m\u001b[0m\n\u001b[0;32m-> 1582\u001b[0;31m     \u001b[0mmpl_cm\u001b[0m\u001b[0;34m.\u001b[0m\u001b[0mregister_cmap\u001b[0m\u001b[0;34m(\u001b[0m\u001b[0m_name\u001b[0m\u001b[0;34m,\u001b[0m \u001b[0m_cmap\u001b[0m\u001b[0;34m)\u001b[0m\u001b[0;34m\u001b[0m\u001b[0;34m\u001b[0m\u001b[0m\n\u001b[0m\u001b[1;32m   1583\u001b[0m     \u001b[0mmpl_cm\u001b[0m\u001b[0;34m.\u001b[0m\u001b[0mregister_cmap\u001b[0m\u001b[0;34m(\u001b[0m\u001b[0m_name\u001b[0m \u001b[0;34m+\u001b[0m \u001b[0;34m\"_r\"\u001b[0m\u001b[0;34m,\u001b[0m \u001b[0m_cmap_r\u001b[0m\u001b[0;34m)\u001b[0m\u001b[0;34m\u001b[0m\u001b[0;34m\u001b[0m\u001b[0m\n\u001b[1;32m   1584\u001b[0m \u001b[0;34m\u001b[0m\u001b[0m\n",
      "\u001b[0;31mAttributeError\u001b[0m: module 'matplotlib.cm' has no attribute 'register_cmap'"
     ]
    }
   ],
   "source": [
    "import matplotlib.pyplot as plt\n",
    "import seaborn as sns\n",
    "\n",
    "sns.countplot(x = \"Status\", data = df)\n",
    "plt.xlabel('Status')\n",
    "plt.ylabel('Count')\n",
    "plt.title('Status count in ICU Admissions')\n",
    "status_counts = df['Status'].value_counts()\n",
    "\n",
    "for i, value in enumerate(status_counts.values):\n",
    "    plt.text(i, value+1, f'{value}', ha = 'center')\n",
    "\n",
    "plt.show()"
   ]
  },
  {
   "cell_type": "code",
   "execution_count": null,
   "id": "1ba2916e",
   "metadata": {},
   "outputs": [],
   "source": [
    "status_counts = df['Status'].value_counts()\n",
    "status_counts"
   ]
  },
  {
   "cell_type": "code",
   "execution_count": null,
   "id": "00970b07",
   "metadata": {},
   "outputs": [],
   "source": [
    "status_counts = df['Status'].value_counts(normalize = True)*100\n",
    "status_counts\n",
    "\n",
    "sns.barplot(x = status_counts.index, y = status_counts.values)\n",
    "plt.xlabel('Status')\n",
    "plt.ylabel('Percentage')\n",
    "plt.title(\"Status percentage in ICU Admissions\")\n",
    "plt.show()"
   ]
  },
  {
   "cell_type": "markdown",
   "id": "ca0514d0",
   "metadata": {},
   "source": [
    "##### What to write about a bar plot\n",
    "\n",
    "- what this plot is about? (what feature?)\n",
    "- Percenrage/Count for each group\n",
    "- Whether there is a clear difference on the percentage/count.\n"
   ]
  },
  {
   "cell_type": "markdown",
   "id": "91e2f827-5d73-4c27-a115-7de0c722a02d",
   "metadata": {},
   "source": [
    "EX: The figure is about the number of people survived in the ICU Admissions. Status '0' means the patient has survived in the ICU while status '1' means the patient died in the ICU. Among the 200 patients, 160 (80%) of them survived while 40 (20%) of them died. Apprently there are more people survived in the ICU.  "
   ]
  },
  {
   "cell_type": "markdown",
   "id": "badb7799",
   "metadata": {},
   "source": [
    "#### One continous: histogram/density plot/boxplot"
   ]
  },
  {
   "cell_type": "code",
   "execution_count": 2,
   "id": "bd7d728f",
   "metadata": {},
   "outputs": [
    {
     "ename": "NameError",
     "evalue": "name 'plt' is not defined",
     "output_type": "error",
     "traceback": [
      "\u001b[0;31m---------------------------------------------------------------------------\u001b[0m",
      "\u001b[0;31mNameError\u001b[0m                                 Traceback (most recent call last)",
      "\u001b[0;32m/var/folders/p1/lqmyh7x55zz1mqtzvzk71nz80000gn/T/ipykernel_6719/2876534796.py\u001b[0m in \u001b[0;36m<module>\u001b[0;34m\u001b[0m\n\u001b[0;32m----> 1\u001b[0;31m \u001b[0mplt\u001b[0m\u001b[0;34m.\u001b[0m\u001b[0mhist\u001b[0m\u001b[0;34m(\u001b[0m\u001b[0mdf\u001b[0m\u001b[0;34m[\u001b[0m\u001b[0;34m'HeartRate'\u001b[0m\u001b[0;34m]\u001b[0m\u001b[0;34m,\u001b[0m \u001b[0mbins\u001b[0m \u001b[0;34m=\u001b[0m \u001b[0;36m20\u001b[0m\u001b[0;34m,\u001b[0m \u001b[0medgecolor\u001b[0m \u001b[0;34m=\u001b[0m \u001b[0;34m'black'\u001b[0m\u001b[0;34m)\u001b[0m\u001b[0;34m\u001b[0m\u001b[0;34m\u001b[0m\u001b[0m\n\u001b[0m\u001b[1;32m      2\u001b[0m \u001b[0mplt\u001b[0m\u001b[0;34m.\u001b[0m\u001b[0mxlabel\u001b[0m\u001b[0;34m(\u001b[0m\u001b[0;34m'Heart Rate'\u001b[0m\u001b[0;34m)\u001b[0m\u001b[0;34m\u001b[0m\u001b[0;34m\u001b[0m\u001b[0m\n\u001b[1;32m      3\u001b[0m \u001b[0mplt\u001b[0m\u001b[0;34m.\u001b[0m\u001b[0mylabel\u001b[0m\u001b[0;34m(\u001b[0m\u001b[0;34m'Frequency'\u001b[0m\u001b[0;34m)\u001b[0m\u001b[0;34m\u001b[0m\u001b[0;34m\u001b[0m\u001b[0m\n\u001b[1;32m      4\u001b[0m \u001b[0mplt\u001b[0m\u001b[0;34m.\u001b[0m\u001b[0mtitle\u001b[0m\u001b[0;34m(\u001b[0m\u001b[0;34m'Heart Rate Distribution in ICU Admissions'\u001b[0m\u001b[0;34m)\u001b[0m\u001b[0;34m\u001b[0m\u001b[0;34m\u001b[0m\u001b[0m\n\u001b[1;32m      5\u001b[0m \u001b[0mplt\u001b[0m\u001b[0;34m.\u001b[0m\u001b[0mshow\u001b[0m\u001b[0;34m(\u001b[0m\u001b[0;34m)\u001b[0m\u001b[0;34m\u001b[0m\u001b[0;34m\u001b[0m\u001b[0m\n",
      "\u001b[0;31mNameError\u001b[0m: name 'plt' is not defined"
     ]
    }
   ],
   "source": [
    "plt.hist(df['HeartRate'], bins = 20, edgecolor = 'black')\n",
    "plt.xlabel('Heart Rate')\n",
    "plt.ylabel('Frequency')\n",
    "plt.title('Heart Rate Distribution in ICU Admissions')\n",
    "plt.show()"
   ]
  },
  {
   "cell_type": "code",
   "execution_count": null,
   "id": "03ba1eef",
   "metadata": {},
   "outputs": [],
   "source": [
    "sns.histplot(df['HeartRate'], kde = True, bins = 20)\n",
    "plt.xlabel('Heart Rate')\n",
    "plt.ylabel('Frequency')\n",
    "plt.title('Heart Rate Distribution in ICU Admissions')\n",
    "plt.show()"
   ]
  },
  {
   "cell_type": "code",
   "execution_count": null,
   "id": "6c246e3c",
   "metadata": {},
   "outputs": [],
   "source": [
    "sns.kdeplot(df['HeartRate'], bw_adjust = 0.6, fill = True)\n",
    "plt.xlabel('Heart Rate')\n",
    "plt.ylabel('Density')\n",
    "plt.title('Heart Rate Distribution in ICU Admissions')\n",
    "plt.show()"
   ]
  },
  {
   "cell_type": "code",
   "execution_count": null,
   "id": "f02fb298",
   "metadata": {},
   "outputs": [],
   "source": [
    "sns.boxplot(y = 'HeartRate', data =df)\n",
    "plt.ylabel('Heart Rate')\n",
    "plt.title('Heart Rate Distribution in ICU Admissions')\n",
    "plt.show()"
   ]
  },
  {
   "cell_type": "code",
   "execution_count": null,
   "id": "80048e58",
   "metadata": {},
   "outputs": [],
   "source": [
    "df['HeartRate'].describe()"
   ]
  },
  {
   "cell_type": "markdown",
   "id": "840e2b77",
   "metadata": {},
   "source": [
    "##### Difference between histogram/density plot/ boxplot\n",
    "\n",
    "- Histogram and density plot emphasizes on the distribution of the data\n",
    "- Boxplot emphasizes on the statistics of the data (median, IQR)\n",
    "- Boxplot cannot catch the distribution information(bi-mode)\n",
    "- Histogram needs to choose the bin number and density plot needs to choose the bandwidth\n",
    "- If you have multiple groups, boxplot and density plot can easily show the things side-by-side while histogram is hard to overlap with each other. "
   ]
  },
  {
   "cell_type": "markdown",
   "id": "385f5a18",
   "metadata": {},
   "source": [
    "##### Difference between histogram and bar plot\n",
    "\n",
    "- Histogram is for numerical feature and bar plot is for categorical one\n",
    "- Histogram almost always in veritical while bar plot can be horizonal\n",
    "- Histogram usually does not have spaces between bars while bar plot will have\n",
    "- Histogram's bar cannot change the order but bar plot's can\n"
   ]
  },
  {
   "cell_type": "markdown",
   "id": "3df99b70",
   "metadata": {},
   "source": [
    "##### What to write about a histogram/density plot\n",
    "\n",
    "- What the plot is about?\n",
    "- Shape(skewness and mode)\n",
    "- Majority of the data (typical value mean $\\pm$ sd)\n",
    "- Potential outliers\n"
   ]
  },
  {
   "cell_type": "markdown",
   "id": "f9e0a96a-0e4a-4ec2-b4cc-b7e2a00549e7",
   "metadata": {},
   "source": [
    "<img src=\"https://www.biologyforlife.com/uploads/2/2/3/9/22392738/c101b0da6ea1a0dab31f80d9963b0368_orig.png\" width=\"700\" height=\"300\">"
   ]
  },
  {
   "cell_type": "markdown",
   "id": "820a7f20-f4c5-45b6-b59a-167c3d5c25a9",
   "metadata": {},
   "source": [
    "EX: The figure is about the distribution of heart rate among ICU Admissions. The heart rate has a uni-mode distribution and it is slightly skewed to the right (positively skewed), which means it may have a potential outlier with large values. The typical value is within the range of 98.9 $\\pm$ 26.8. "
   ]
  },
  {
   "cell_type": "markdown",
   "id": "03b1d09f",
   "metadata": {},
   "source": [
    "##### What to write about a box plot\n",
    "\n",
    "- What the plot is about?\n",
    "- Can also comment on the skewness but not the mode\n",
    "- Majority of data (IQR)\n",
    "- Potential outliers"
   ]
  },
  {
   "cell_type": "markdown",
   "id": "271ed70f-4a57-4354-9df6-76af394fcaa8",
   "metadata": {},
   "source": [
    "EX: The figure is the boxplot of the hear rate distribution in ICU Admissions. It seems that the distribution is slightly skewed ot the right and it may have a potential outlier with large values. The IQR range is from 80 to 118.25."
   ]
  },
  {
   "cell_type": "markdown",
   "id": "a336fc4a",
   "metadata": {},
   "source": [
    "#### Two continous: scatter plot"
   ]
  },
  {
   "cell_type": "code",
   "execution_count": null,
   "id": "e1acabd1",
   "metadata": {},
   "outputs": [],
   "source": [
    "plt.scatter(df['Age'], df['HeartRate'], alpha = 0.6)\n",
    "plt.xlabel('Age')\n",
    "plt.ylabel('Heart Rate')\n",
    "plt.title('Scatter plot between Age and Heart Rate in ICU Admissions')\n",
    "plt.show()"
   ]
  },
  {
   "cell_type": "code",
   "execution_count": null,
   "id": "916e6a4d-3050-4e43-ad70-e6443129f99a",
   "metadata": {
    "scrolled": true
   },
   "outputs": [],
   "source": [
    "plt.scatter(df['Status'], df['HeartRate'], alpha = 0.6)\n",
    "plt.xlabel('Status')\n",
    "plt.ylabel('Heart Rate')\n",
    "plt.title('Scatter plot between Status and Heart Rate in ICU Admissions')\n",
    "plt.show()"
   ]
  },
  {
   "cell_type": "markdown",
   "id": "1a0c2f5b",
   "metadata": {},
   "source": [
    "##### What to write about a scatter plot\n",
    "\n",
    "- What the plot is about?\n",
    "- Trend (linear or non-linear)\n",
    "- outlier? or cluster?\n"
   ]
  },
  {
   "cell_type": "markdown",
   "id": "c85f9400-0b5b-49bd-a9de-ef67841faf78",
   "metadata": {},
   "source": [
    "EX: the figure shows the relationship between age and heart rate among ICU Admissions. There is no clear linear or non-linear trend in the figure and there is no clear outlier. There might be a cluster for the age between 60-80 and heart rate from 100 to 120."
   ]
  },
  {
   "cell_type": "markdown",
   "id": "22614331",
   "metadata": {},
   "source": [
    "#### One categorical and one continous: side-by-side boxplot\n",
    "\n",
    "Other choices include side-by-side histogram and side-by-side density plot"
   ]
  },
  {
   "cell_type": "code",
   "execution_count": null,
   "id": "fc7455a1",
   "metadata": {},
   "outputs": [],
   "source": [
    "sns.boxplot(x = 'Status', y = 'HeartRate', data = df)\n",
    "plt.xlabel('Status')\n",
    "plt.ylabel('Heart Rate')\n",
    "plt.title('Heart rate dsitribution by Status in ICU Admissions')\n",
    "plt.show()"
   ]
  },
  {
   "cell_type": "code",
   "execution_count": null,
   "id": "1dbf09a9",
   "metadata": {},
   "outputs": [],
   "source": [
    "sns.kdeplot(x = 'HeartRate', hue = 'Status', data = df, common_norm = False)\n",
    "plt.ylabel('Density')\n",
    "plt.xlabel('Heart Rate')\n",
    "plt.title('Heart rate dsitribution by Status in ICU Admissions')\n",
    "plt.show()"
   ]
  },
  {
   "cell_type": "markdown",
   "id": "6be1f5b1",
   "metadata": {},
   "source": [
    "##### What to write about a side-by-side boxplot or density plot\n",
    "\n",
    "- What the plot is about?\n",
    "- Highlight the comparison\n",
    "- For the boxplot, declare whether the box parts are overlapped. \n"
   ]
  },
  {
   "cell_type": "markdown",
   "id": "84ddb95a-9078-409e-8d89-d178c9cd33ce",
   "metadata": {},
   "source": [
    "EX. The figure is the side-by-side boxplot for Heart Rate vs. Status. The box parts are overlapped, thus there might not be a significant difference between two groups on Heart Rate distribution. "
   ]
  },
  {
   "cell_type": "markdown",
   "id": "471ac290",
   "metadata": {},
   "source": [
    "#### Two categorical: side-by-side bar plot"
   ]
  },
  {
   "cell_type": "code",
   "execution_count": null,
   "id": "c135ba13",
   "metadata": {},
   "outputs": [],
   "source": []
  },
  {
   "cell_type": "markdown",
   "id": "941f3b9b",
   "metadata": {},
   "source": [
    "##### What to write about a side-by-side bar plot\n",
    "\n",
    "- "
   ]
  },
  {
   "cell_type": "markdown",
   "id": "96a9b132",
   "metadata": {},
   "source": [
    "### In-class activities: Try to make data visualizaiton by yourself\n",
    "\n",
    "See the data with about Titanic. Try to make three data visualization to study how other features affect the \"survived\" (whether the person survived from the Titanic disaster). Once you finish, show your figures to the neighbors and describe the figures to them. \n",
    "\n",
    "Note: This is not a complete data, feel free to remove the missing valuesv(or do any other data pre-processing) before you making the plots. "
   ]
  },
  {
   "cell_type": "code",
   "execution_count": 7,
   "id": "2356da5f",
   "metadata": {},
   "outputs": [
    {
     "name": "stderr",
     "output_type": "stream",
     "text": [
      "/var/folders/p1/lqmyh7x55zz1mqtzvzk71nz80000gn/T/ipykernel_84471/2572002079.py:26: FutureWarning: \n",
      "\n",
      "The `ci` parameter is deprecated. Use `errorbar=None` for the same effect.\n",
      "\n",
      "  sns.barplot(data=titanic_data_cleaned, x='sex', y='survived', ci=None, ax=axes[2])\n"
     ]
    }
   ],
   "source": [
    "import seaborn as sns\n",
    "import matplotlib.pyplot as plt\n",
    "\n",
    "# Load Titanic dataset\n",
    "titanic_data = sns.load_dataset('titanic')\n",
    "\n",
    "# Clean the data by removing rows with missing values\n",
    "titanic_data_cleaned = titanic_data.dropna()\n",
    "\n",
    "# Create a single figure with multiple subplots\n",
    "fig, axes = plt.subplots(1, 3, figsize=(18, 6))\n",
    "\n",
    "# Plot 1: Distribution of 'age' based on 'survived'\n",
    "sns.histplot(data=titanic_data_cleaned, x='age', hue='survived', multiple='stack', kde=True, ax=axes[0])\n",
    "axes[0].set_title('Distribution of Age Based on Survival')\n",
    "axes[0].set_xlabel('Age')\n",
    "axes[0].set_ylabel('Count')\n",
    "\n",
    "# Plot 2: Count of survivors by 'class'\n",
    "sns.countplot(data=titanic_data_cleaned, x='pclass', hue='survived', ax=axes[1])\n",
    "axes[1].set_title('Survival Count Based on Class')\n",
    "axes[1].set_xlabel('Class')\n",
    "axes[1].set_ylabel('Count')\n",
    "\n",
    "# Plot 3: Survival rate by 'sex'\n",
    "sns.barplot(data=titanic_data_cleaned, x='sex', y='survived', ci=None, ax=axes[2])\n",
    "axes[2].set_title('Survival Rate Based on Sex')\n",
    "axes[2].set_xlabel('Sex')\n",
    "axes[2].set_ylabel('Survival Rate')\n",
    "\n",
    "# Adjust layout to avoid overlap\n",
    "plt.tight_layout()\n",
    "\n",
    "# Save the entire figure to a single file\n",
    "plt.savefig('titanic_survival_analysis.png')\n",
    "plt.close()\n"
   ]
  },
  {
   "cell_type": "code",
   "execution_count": null,
   "id": "0ae2eb37",
   "metadata": {},
   "outputs": [],
   "source": []
  },
  {
   "cell_type": "code",
   "execution_count": null,
   "id": "c0501f61",
   "metadata": {},
   "outputs": [],
   "source": []
  },
  {
   "cell_type": "code",
   "execution_count": null,
   "id": "46ad9771",
   "metadata": {},
   "outputs": [],
   "source": []
  },
  {
   "cell_type": "code",
   "execution_count": null,
   "id": "68e15cc8",
   "metadata": {},
   "outputs": [],
   "source": []
  },
  {
   "cell_type": "markdown",
   "id": "319c3d2f",
   "metadata": {},
   "source": [
    "#### Other options\n",
    "\n",
    "Matplotlib and seaborn also allow you to do some level of customization. \n",
    "Read the documents here to change color/size/shape for your plot. Save your work to submit to the quiz later. \n",
    "\n",
    "https://matplotlib.org/2.1.1/api/_as_gen/matplotlib.pyplot.plot.html\n"
   ]
  },
  {
   "cell_type": "markdown",
   "id": "6d513f9e",
   "metadata": {},
   "source": [
    "### Conclusion\n",
    "\n",
    "- One categorical: bar plot\n",
    "- One continous: histogram/density plot/boxplot\n",
    "- Two continous: scatter plot\n",
    "- One categorical and one continous: side-by-side boxplot\n",
    "- Two categorical: side-by-side bar plot\n",
    "\n",
    "But, wait, why?\n",
    "\n",
    "In-class activities: discuss what other options you want to have for your plots?"
   ]
  },
  {
   "cell_type": "code",
   "execution_count": null,
   "id": "6941707d",
   "metadata": {},
   "outputs": [],
   "source": []
  }
 ],
 "metadata": {
  "kernelspec": {
   "display_name": "Python 3 (ipykernel)",
   "language": "python",
   "name": "python3"
  },
  "language_info": {
   "codemirror_mode": {
    "name": "ipython",
    "version": 3
   },
   "file_extension": ".py",
   "mimetype": "text/x-python",
   "name": "python",
   "nbconvert_exporter": "python",
   "pygments_lexer": "ipython3",
   "version": "3.9.7"
  },
  "widgets": {
   "application/vnd.jupyter.widget-state+json": {
    "state": {},
    "version_major": 2,
    "version_minor": 0
   }
  }
 },
 "nbformat": 4,
 "nbformat_minor": 5
}
